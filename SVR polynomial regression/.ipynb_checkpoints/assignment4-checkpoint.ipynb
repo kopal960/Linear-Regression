{
 "cells": [
  {
   "cell_type": "code",
   "execution_count": 22,
   "metadata": {},
   "outputs": [],
   "source": [
    "import csv\n",
    "import numpy as np\n",
    "import matplotlib.pyplot as plt\n",
    "from sklearn.svm import SVR "
   ]
  },
  {
   "cell_type": "code",
   "execution_count": 23,
   "metadata": {},
   "outputs": [],
   "source": [
    "def load_data(filename):\n",
    "    file = open(filename)\n",
    "    file = csv.reader(file)\n",
    "    fields = next(file)\n",
    "    train = np.array([row for row in file], dtype=float).T\n",
    "    return train[3:7,:276],train[7:,:276],train[3:7,276:],train[7:,276:]    "
   ]
  },
  {
   "cell_type": "code",
   "execution_count": 24,
   "metadata": {},
   "outputs": [],
   "source": [
    "def correlation(X,Y):\n",
    "    xm = np.mean(X,axis=1,keepdims=True)\n",
    "    ym = np.mean(Y)\n",
    "    w =(np.sum((X-xm)*(Y-ym),axis=1,keepdims=True)/np.sum((X-xm)**2,axis=1,keepdims=True)).T\n",
    "    return  w, ym-np.dot(w,xm)"
   ]
  },
  {
   "cell_type": "code",
   "execution_count": 25,
   "metadata": {},
   "outputs": [],
   "source": [
    "def predict(w,b,X,Y=None,print_acc=False):\n",
    "    m=X.shape[1]\n",
    "    Y_p = np.dot(w,X)+b\n",
    "    if(print_acc):\n",
    "        Y_mean = np.mean(Y)\n",
    "        r2 = np.sum((Y_p-Y_mean)**2)/np.sum((Y-Y_mean)**2)\n",
    "        rmse = np.mean((Y_p-Y)**2)**0.5\n",
    "        print(\"Rsquared value on the given set:\",r2)\n",
    "        print(\"rmse on the given set:\" ,rmse)\n",
    "    return Y_p\n",
    "    "
   ]
  },
  {
   "cell_type": "code",
   "execution_count": 26,
   "metadata": {},
   "outputs": [],
   "source": [
    "def normalize(X):\n",
    "    xm =np.mean(X,axis=1,keepdims=True)\n",
    "    xstd = np.mean((X-xm)**2,axis=1,keepdims=True)**0.5\n",
    "    return (X-xm)/xstd"
   ]
  },
  {
   "cell_type": "code",
   "execution_count": 37,
   "metadata": {},
   "outputs": [
    {
     "data": {
      "image/png": "[encoded data removed]",
      "text/plain": [
       "<Figure size 432x288 with 1 Axes>"
      ]
     },
     "metadata": {
      "needs_background": "light"
     },
     "output_type": "display_data"
    },
    {
     "name": "stdout",
     "output_type": "stream",
     "text": [
      "rmse on training set : 12.484095983017715\n",
      "Accuracy on training set: 0.7829084720168884\n",
      "rmse on test set : 11.04730770287074\n",
      "Accuracy on test set: 0.7831011326526507\n"
     ]
    }
   ],
   "source": [
    "#training  and accuracy calculation using SVR\n",
    "reg= SVR(kernel='poly',gamma=\"scale\",degree=3,coef0=0)\n",
    "reg.fit(X_train.T,Y_train.T.ravel())\n",
    "Y_p = reg.predict(X_train.T)\n",
    "Y_p2 = reg.predict(X_dev.T)\n",
    "plt.plot(np.squeeze(Y_train),np.squeeze(Y_train),\"y*\") #the plot with 100% accuracy\n",
    "plt.plot(np.squeeze(Y_train),np.squeeze(Y_p),'r*') #\n",
    "plt.ylabel(\"predicted price of house per unit area\")\n",
    "plt.xlabel(\"actual price of the house per unit area\")\n",
    "plt.show()\n",
    "print(\"rmse on training set :\",np.mean((Y_p-Y_train)**2)**0.5)  \n",
    "print(\"Accuracy on training set:\",1-reg.score( X_train.T,Y_train.T.ravel() )) \n",
    "print(\"rmse on test set :\",np.mean((Y_p2-Y_dev)**2)**0.5) \n",
    "print(\"Accuracy on test set:\" ,1-reg.score(X_dev.T,Y_dev.T.ravel()))"
   ]
  },
  {
   "cell_type": "code",
   "execution_count": 36,
   "metadata": {},
   "outputs": [
    {
     "data": {
      "image/png": "[encoded data removed]",
      "text/plain": [
       "<Figure size 432x288 with 1 Axes>"
      ]
     },
     "metadata": {
      "needs_background": "light"
     },
     "output_type": "display_data"
    },
    {
     "name": "stdout",
     "output_type": "stream",
     "text": [
      "rmse on training set : 12.484095983017715\n",
      "Accuracy on training set: 0.7829084720168884\n",
      "rmse on test set : 11.04730770287074\n",
      "Accuracy on test set: 0.7831011326526507\n"
     ]
    }
   ],
   "source": [
    "X_train,Y_train,X_dev,Y_dev = load_data(\"datasets_88705_204267_Real estate.csv\")\n",
    "#X_train = normalize(X_train)\n",
    "#X_dev = normalize(X_dev)\n",
    "#x = 0\n",
    "#plt.plot(X_train[x,:] , Y_train[0],\"*\")\n",
    "w,b = correlation(X_train,Y_train[0])\n",
    "print(w,b)\n",
    "Y_p = predict(w,b,X_train,Y_train,True)\n",
    "Y_p2 = predict(w,b,X_dev,Y_dev,True)\n",
    "plt.plot(np.squeeze(Y_train),np.squeeze(Y_p),\"o\")\n",
    "plt.plot(np.squeeze(Y_train),np.squeeze(Y_train))\n",
    "plt.show()"
   ]
  },
  {
   "cell_type": "code",
   "execution_count": null,
   "metadata": {},
   "outputs": [],
   "source": []
  },
  {
   "cell_type": "code",
   "execution_count": null,
   "metadata": {},
   "outputs": [],
   "source": []
  }
 ],
 "metadata": {
  "kernelspec": {
   "display_name": "Python 3",
   "language": "python",
   "name": "python3"
  },
  "language_info": {
   "codemirror_mode": {
    "name": "ipython",
    "version": 3
   },
   "file_extension": ".py",
   "mimetype": "text/x-python",
   "name": "python",
   "nbconvert_exporter": "python",
   "pygments_lexer": "ipython3",
   "version": "3.7.4"
  }
 },
 "nbformat": 4,
 "nbformat_minor": 2
}
