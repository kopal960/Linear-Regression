{
 "cells": [
  {
   "cell_type": "code",
   "execution_count": 2,
   "metadata": {},
   "outputs": [],
   "source": [
    "import csv\n",
    "import numpy as np\n",
    "import matplotlib.pyplot as plt\n",
    "from sklearn.svm import SVR "
   ]
  },
  {
   "cell_type": "code",
   "execution_count": 3,
   "metadata": {},
   "outputs": [],
   "source": [
    "def load_data(filename):\n",
    "    file = open(filename)\n",
    "    file = csv.reader(file)\n",
    "    fields = next(file)\n",
    "    train = np.array([row for row in file], dtype=float).T\n",
    "    return train[:7,:276],train[7:,:276],train[:7,276:],train[7:,276:],fields "
   ]
  },
  {
   "cell_type": "code",
   "execution_count": 15,
   "metadata": {},
   "outputs": [
    {
     "data": {
      "image/png": "[encoded data removed]",
      "text/plain": [
       "<Figure size 432x288 with 1 Axes>"
      ]
     },
     "metadata": {
      "needs_background": "light"
     },
     "output_type": "display_data"
    },
    {
     "name": "stdout",
     "output_type": "stream",
     "text": [
      "rmse on training set : 12.484095983017715\n",
      "Accuracy on training set: 0.7829084720168884\n",
      "rmse on test set : 11.04730770287074\n",
      "Accuracy on test set: 0.7831011326526507\n"
     ]
    }
   ],
   "source": [
    "#training  and accuracy calculation using SVR\n",
    "X_train,Y_train,X_dev,Y_dev ,fields= load_data(\"datasets_88705_204267_Real estate.csv\")\n",
    "reg= SVR(kernel='poly',gamma=\"scale\",degree=3,coef0=0)\n",
    "reg.fit(X_train[3:,:].T,Y_train.T.ravel())\n",
    "Y_p = reg.predict(X_train[3:,:].T)\n",
    "Y_p2 = reg.predict(X_dev[3:,:].T)\n",
    "plt.plot(np.squeeze(Y_train),np.squeeze(Y_train),\"y*\") #the plot with 100% accuracy\n",
    "plt.plot(np.squeeze(Y_train),np.squeeze(Y_p),'r*') \n",
    "plt.ylabel(\"predicted price of house per unit area\")\n",
    "plt.xlabel(\"actual price of the house per unit area\")\n",
    "plt.show()\n",
    "print(\"rmse on training set :\",np.mean((Y_p-Y_train)**2)**0.5)  \n",
    "print(\"Accuracy on training set:\",1-reg.score( X_train[3:,:].T,Y_train.T.ravel() )) \n",
    "print(\"rmse on test set :\",np.mean((Y_p2-Y_dev)**2)**0.5) \n",
    "print(\"Accuracy on test set:\" ,1-reg.score(X_dev[3:,:].T,Y_dev.T.ravel()))"
   ]
  },
  {
   "cell_type": "code",
   "execution_count": 16,
   "metadata": {},
   "outputs": [
    {
     "name": "stdout",
     "output_type": "stream",
     "text": [
      "X1 transaction date : 2013.0\n",
      "X2 house age : 19.1\n",
      "X3 distance to the nearest MRT station : 461.1016\n",
      "X4 number of convenience stores : 5.0\n",
      "X5 latitude : 24.95425\n",
      "X6 longitude : 121.5399\n",
      "Predicted price of house per unit area: 40.41715071672824\n",
      "Actual price of house per unit area: 34.0\n"
     ]
    }
   ],
   "source": [
    "#prediction on the test set\n",
    "X_test = X_dev\n",
    "index = 0\n",
    "for i in range(1,len(fields)-1):\n",
    "    print(fields[i],\":\",X_dev[i][index])\n",
    "print(\"Predicted price of house per unit area:\",Y_p2[index])\n",
    "print(\"Actual price of house per unit area:\",Y_dev[0][index])"
   ]
  },
  {
   "cell_type": "code",
   "execution_count": null,
   "metadata": {},
   "outputs": [],
   "source": []
  }
 ],
 "metadata": {
  "kernelspec": {
   "display_name": "Python 3",
   "language": "python",
   "name": "python3"
  },
  "language_info": {
   "codemirror_mode": {
    "name": "ipython",
    "version": 3
   },
   "file_extension": ".py",
   "mimetype": "text/x-python",
   "name": "python",
   "nbconvert_exporter": "python",
   "pygments_lexer": "ipython3",
   "version": "3.7.4"
  }
 },
 "nbformat": 4,
 "nbformat_minor": 2
}
