{
 "cells": [
  {
   "cell_type": "code",
   "execution_count": 1,
   "metadata": {},
   "outputs": [],
   "source": [
    "import numpy as np\n",
    "import matplotlib.pyplot as plt\n",
    "import csv"
   ]
  },
  {
   "cell_type": "code",
   "execution_count": 2,
   "metadata": {},
   "outputs": [],
   "source": [
    "def load_csv(filename):\n",
    "    with open(filename+'.csv', 'r') as csvfile: \n",
    "        # creating a csv reader object \n",
    "        csvread = csv.reader(csvfile)\n",
    "        fields=next(csvread)\n",
    "        X_train = [row for row in  csvread]\n",
    "    X_train = np.array(X_train , dtype=float).T\n",
    "    return X_train"
   ]
  },
  {
   "cell_type": "code",
   "execution_count": 8,
   "metadata": {},
   "outputs": [],
   "source": [
    "#load data\n",
    "X_train = load_csv('Linear_X_Train')\n",
    "Y_train = load_csv(\"Linear_Y_Train\")\n",
    "X_dev = X_train[:,1875:]\n",
    "Y_dev = Y_train[:,1875:]\n",
    "X_train  = X_train[:,:1875]\n",
    "Y_train = Y_train[:,:1875]\n",
    "X_test  = load_csv('Linear_X_Test')"
   ]
  },
  {
   "cell_type": "code",
   "execution_count": 9,
   "metadata": {},
   "outputs": [
    {
     "data": {
      "image/png": "[encoded data removed]",
      "text/plain": [
       "<Figure size 432x288 with 1 Axes>"
      ]
     },
     "metadata": {
      "needs_background": "light"
     },
     "output_type": "display_data"
    }
   ],
   "source": [
    "x_mean = np.squeeze(np.mean(X_train,axis=1))\n",
    "y_mean = np.squeeze(np.mean(Y_train,axis=1))\n",
    "w = np.sum((X_train-x_mean)*(Y_train-y_mean))/np.sum((X_train-x_mean)**2)\n",
    "b = y_mean - w*x_mean\n",
    "plt.scatter(X_train,Y_train)\n",
    "Y_p = np.dot(w,X_train)+b\n",
    "plt.plot(np.squeeze(X_train),np.squeeze(Y_p),'-o',c='red')\n",
    "o =X_train[:][:4]\n",
    "print\n",
    "plt.plot()\n",
    "plt.show()"
   ]
  },
  {
   "cell_type": "code",
   "execution_count": 10,
   "metadata": {},
   "outputs": [
    {
     "name": "stdout",
     "output_type": "stream",
     "text": [
      "Accuracy on training set: 0.9698684732235566\n"
     ]
    }
   ],
   "source": [
    "#calculating error\n",
    "r2 = np.sum((np.dot(w,X_train)+b-y_mean)**2)/np.sum((Y_train-y_mean)**2)\n",
    "print(\"Accuracy on training set:\",r2)"
   ]
  },
  {
   "cell_type": "code",
   "execution_count": 11,
   "metadata": {
    "scrolled": false
   },
   "outputs": [
    {
     "name": "stdout",
     "output_type": "stream",
     "text": [
      "Accuracy on dev set: 0.9831842831923491\n"
     ]
    }
   ],
   "source": [
    "#prediction on dev set\n",
    "Y_pd = np.dot(w,X_dev)+b\n",
    "r2d = r2 = np.sum((np.dot(w,X_dev)+b-y_mean)**2)/np.sum((Y_train-y_mean)**2)\n",
    "print('Accuracy on dev set:',r2d)"
   ]
  },
  {
   "cell_type": "code",
   "execution_count": 12,
   "metadata": {},
   "outputs": [
    {
     "name": "stdout",
     "output_type": "stream",
     "text": [
      "Predicted score : -147.42210999360387\n"
     ]
    }
   ],
   "source": [
    "y = np.dot(w,X_test)+b\n",
    "index = 0 #can be changed from 0 to 1250(1250 excluded)\n",
    "print(\"Predicted score :\",y[0][index] )"
   ]
  },
  {
   "cell_type": "code",
   "execution_count": null,
   "metadata": {},
   "outputs": [],
   "source": []
  }
 ],
 "metadata": {
  "kernelspec": {
   "display_name": "Python 3",
   "language": "python",
   "name": "python3"
  },
  "language_info": {
   "codemirror_mode": {
    "name": "ipython",
    "version": 3
   },
   "file_extension": ".py",
   "mimetype": "text/x-python",
   "name": "python",
   "nbconvert_exporter": "python",
   "pygments_lexer": "ipython3",
   "version": "3.7.4"
  }
 },
 "nbformat": 4,
 "nbformat_minor": 2
}
