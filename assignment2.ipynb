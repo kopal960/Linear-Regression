{
 "cells": [
  {
   "cell_type": "code",
   "execution_count": 1,
   "metadata": {},
   "outputs": [],
   "source": [
    "import csv \n",
    "import numpy as np\n",
    "import matplotlib.pyplot as plt"
   ]
  },
  {
   "cell_type": "code",
   "execution_count": 2,
   "metadata": {},
   "outputs": [],
   "source": [
    "def load_csv(filename):\n",
    "    with open(filename+'.csv', 'r') as csvfile: \n",
    "        # creating a csv reader object \n",
    "        csvread = csv.reader(csvfile)\n",
    "        fields=next(csvread)\n",
    "        X_train = [row for row in  csvread]\n",
    "    X_train = np.array(X_train , dtype=float).T\n",
    "    return X_train"
   ]
  },
  {
   "cell_type": "code",
   "execution_count": 3,
   "metadata": {},
   "outputs": [
    {
     "name": "stdout",
     "output_type": "stream",
     "text": [
      "(5, 800) (5, 400) (1, 800) (5, 800) (1, 800)\n"
     ]
    }
   ],
   "source": [
    "train  = load_csv(\"Train\")\n",
    "test = load_csv(\"Test\")\n",
    "train = np.array(train)\n",
    "test  = np.array(test)\n",
    "X_train = train[:5,:800]\n",
    "X_dev  = train[:5,800:]\n",
    "Y_train = train[5:,:800]\n",
    "Y_dev = train[5:,800:]\n",
    "X_test = test\n",
    "print(X_train.shape,X_test.shape,Y_train.shape,X_dev.shape,Y_dev.shape)"
   ]
  },
  {
   "cell_type": "code",
   "execution_count": 4,
   "metadata": {},
   "outputs": [
    {
     "name": "stdout",
     "output_type": "stream",
     "text": [
      "[[28.52818404 93.98241739  4.98790008 47.67695181 -0.98137932]]\n"
     ]
    }
   ],
   "source": [
    "#using corelation method\n",
    "w1 = np.sum((X_train-np.mean(X_train ,axis=1,keepdims=True))*(Y_train-np.mean(Y_train,keepdims=True)),axis=1,keepdims=True).T#\n",
    "w2 = np.sum((X_train-np.mean(X_train,axis=1,keepdims=True))**2,axis=1,keepdims=True).T\n",
    "w= w1/w2\n",
    "b = np.mean(Y_train - np.dot(w,np.mean(X_train,axis=1,keepdims=True)))\n",
    "print(w)"
   ]
  },
  {
   "cell_type": "code",
   "execution_count": 7,
   "metadata": {},
   "outputs": [],
   "source": [
    "def predict(w,b,X,Y=None,print_acc=False):\n",
    "    m=X.shape[1]\n",
    "    Y_p = np.dot(w,X)+b\n",
    "    if(print_acc):\n",
    "        Y_mean = np.mean(Y)\n",
    "        r2 = 1-np.sum((Y_p-Y_mean)**2)/np.sum((Y-Y_mean)**2)\n",
    "        print(\"Rsquared value on the given set:\",r2)\n",
    "    return Y_p"
   ]
  },
  {
   "cell_type": "code",
   "execution_count": 8,
   "metadata": {},
   "outputs": [
    {
     "name": "stdout",
     "output_type": "stream",
     "text": [
      "Training Set\n",
      "Rsquared value on the given set: 0.0007341364555438767\n",
      "Dev Set\n",
      "Rsquared value on the given set: -0.00682002641472601\n",
      "prediction using correlation method: 114.02772734465677\n"
     ]
    }
   ],
   "source": [
    "print(\"Training Set\")\n",
    "Y_pt = predict(w,b,X_train,Y_train,True)\n",
    "print(\"Dev Set\")\n",
    "Y_pd = predict(w,b,X_dev,Y_dev,True)\n",
    "Y_p = predict(w,b,X_test)\n",
    "index = 0 #0 to 400\n",
    "print(\"prediction using correlation method:\",Y_p[0][index])"
   ]
  },
  {
   "cell_type": "code",
   "execution_count": null,
   "metadata": {},
   "outputs": [],
   "source": []
  }
 ],
 "metadata": {
  "kernelspec": {
   "display_name": "Python 3",
   "language": "python",
   "name": "python3"
  },
  "language_info": {
   "codemirror_mode": {
    "name": "ipython",
    "version": 3
   },
   "file_extension": ".py",
   "mimetype": "text/x-python",
   "name": "python",
   "nbconvert_exporter": "python",
   "pygments_lexer": "ipython3",
   "version": "3.7.4"
  }
 },
 "nbformat": 4,
 "nbformat_minor": 2
}
