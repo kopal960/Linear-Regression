{
 "cells": [
  {
   "cell_type": "code",
   "execution_count": 1,
   "metadata": {},
   "outputs": [],
   "source": [
    "import numpy as np \n",
    "import matplotlib.pyplot as plt\n",
    "import csv"
   ]
  },
  {
   "cell_type": "code",
   "execution_count": 2,
   "metadata": {},
   "outputs": [],
   "source": [
    "#load data function\n",
    "def load_data(file):\n",
    "    csvfile = open(file)\n",
    "    csvfile = csv.reader(csvfile)\n",
    "    fields = next(csvfile)\n",
    "    data = np.array([row for row in csvfile],dtype=float).T\n",
    "    return data,fields"
   ]
  },
  {
   "cell_type": "code",
   "execution_count": 3,
   "metadata": {
    "scrolled": true
   },
   "outputs": [],
   "source": [
    "def normalize_data(X):\n",
    "    m = np.mean(X,axis=1,keepdims=True)\n",
    "    v = np.mean((X-m)**2,axis=1,keepdims=True)\n",
    "    return m,v ,(X-m)/v"
   ]
  },
  {
   "cell_type": "code",
   "execution_count": 4,
   "metadata": {},
   "outputs": [],
   "source": [
    "#loading data\n",
    "X_train_orig,fields = load_data(\"Diabetes_Xtrain.csv\")\n",
    "X_train = X_train_orig[:,:460]\n",
    "X_dev = X_train_orig[:,460:]\n",
    "Y_train_orig,notreq = load_data(\"Diabetes_Ytrain.csv\")\n",
    "Y_train = Y_train_orig[:,:460]\n",
    "Y_dev = Y_train_orig[:,460:]\n",
    "X_test,fields = load_data(\"Diabetes_Xtest.csv\")\n",
    "m,var,X_train = normalize_data(X_train)\n",
    "plt.show()"
   ]
  },
  {
   "cell_type": "code",
   "execution_count": 5,
   "metadata": {},
   "outputs": [],
   "source": [
    "def initialize_parameters(layer_dims):\n",
    "    parameters ={}\n",
    "    V = {}\n",
    "    L = len(layer_dims)\n",
    "    for l in range(L-1):\n",
    "        parameters['W' +str(l+1)] = np.random.randn(layer_dims[l+1],layer_dims[l])*((2/layer_dims[l])**0.5)\n",
    "        parameters['b'+str(l+1)] = np.zeros((layer_dims[l+1],1))\n",
    "        V['dW' + str(l+1)] = np.zeros(parameters['W' + str(l+1)].shape)\n",
    "        V['db'+str(l+1)] = np.zeros(parameters['b' +str(l+1)].shape)\n",
    "    return parameters,V\n"
   ]
  },
  {
   "cell_type": "code",
   "execution_count": 6,
   "metadata": {},
   "outputs": [
    {
     "data": {
      "text/plain": [
       "1.0"
      ]
     },
     "execution_count": 6,
     "metadata": {},
     "output_type": "execute_result"
    }
   ],
   "source": [
    "def sigmoid(z):\n",
    "    return 1/(1+np.exp(-z))\n",
    "sigmoid(100)"
   ]
  },
  {
   "cell_type": "code",
   "execution_count": 7,
   "metadata": {},
   "outputs": [],
   "source": [
    "def relu(z):\n",
    "    return np.where(z>0,z,0.01*z)"
   ]
  },
  {
   "cell_type": "code",
   "execution_count": 8,
   "metadata": {},
   "outputs": [],
   "source": [
    "def forward_propagation(X,parameters):\n",
    "    cache = {}\n",
    "    cache['a0'] = X\n",
    "    L = len(parameters)//2+1\n",
    "    for l in range(L-2):\n",
    "        cache['a'+str(l+1)] = relu( np.dot(parameters['W'+str(l+1)],cache['a'+str(l)]) + parameters['b'+str(l+1)] )\n",
    "    cache['a'+str(L-1)] = sigmoid(np.dot(parameters['W'+str(L-1)],cache['a'+str(L-2)])+parameters['b'+str(L-1)])\n",
    "    #assert(np.sum(np.array(cache['a'+str(L-1)]!=1,dtype=int))==1)\n",
    "    return cache"
   ]
  },
  {
   "cell_type": "code",
   "execution_count": 9,
   "metadata": {},
   "outputs": [],
   "source": [
    "def compute_cost(z,Y):\n",
    "    m = Y.shape[1]\n",
    "    return np.squeeze(-np.mean(Y*np.log(z)+(1-Y)*np.log(1-z)))"
   ]
  },
  {
   "cell_type": "code",
   "execution_count": 10,
   "metadata": {},
   "outputs": [],
   "source": [
    "def back_propagation(X,Y,parameters,V,cache,learning_rate,t,beta=0.9,beta2 =0.999):\n",
    "    m = X.shape[1]\n",
    "    L = len(cache)\n",
    "    grads = {}\n",
    "    grads['dz'+str(L-1)] = cache['a'+str(L-1)]-Y\n",
    "    for l in range(L-1,0,-1):\n",
    "        grads['dW'+str(l)] = np.dot(grads['dz'+str(l)],cache['a'+str(l-1)].T)/m\n",
    "        grads['db'+str(l)] = np.mean(grads['dz'+str(l)],keepdims=True)\n",
    "        if(l>1):\n",
    "            grads['da'+str(l-1)]= np.dot(parameters['W'+str(l)].T,grads['dz'+str(l)])\n",
    "            grads['dz'+str(l-1)] = np.where(cache['a'+str(l-1)]>0,1,0.01)*grads['da'+str(l-1)]\n",
    "        V['dW'+str(l)] = beta*V['dW'+str(l)] + (1-beta)*grads['dW'+str(l)] \n",
    "        V['db'+str(l)] = beta*V['db'+str(l)] + (1-beta)*grads['db'+str(l)]\n",
    "    for l in range(L-1):\n",
    "        parameters['W'+str(l+1)] = parameters['W'+str(l+1)] - learning_rate*V['dW'+str(l+1)]/(1-beta2**t)\n",
    "        parameters['b'+str(l+1)] = parameters['b'+str(l+1)] - learning_rate*V['db'+str(l+1)]/(1-beta2**t)\n",
    "    return parameters,V"
   ]
  },
  {
   "cell_type": "code",
   "execution_count": 11,
   "metadata": {},
   "outputs": [],
   "source": [
    "def model(X,Y,learning_rate=0.01,num_iterations=3000):\n",
    "    np.random.seed(0)\n",
    "    parameters,V = initialize_parameters((X.shape[0],7,2,2,Y.shape[0]))\n",
    "    costs = []\n",
    "    for i in range(num_iterations):\n",
    "        cache = forward_propagation(X,parameters)\n",
    "        cost  = compute_cost(cache['a4'],Y)\n",
    "        parameters,V =  back_propagation(X,Y,parameters,V,cache,learning_rate,i+1)\n",
    "        if i%100==0:\n",
    "            costs.append(cost)\n",
    "            #if(i>0):\n",
    "             #   print(cache['a3']==a3)\n",
    "            #a3 = cache['a3']\n",
    "            print(\"the cost of {}th iteration is {}\".format(str(i),str(cost)))\n",
    "    plt.plot(costs)\n",
    "    plt.title(\"Learning rate = {}\".format(learning_rate))\n",
    "    plt.ylabel(\"cost per 100 iterations\")\n",
    "    plt.xlabel(\"iterations per 100\")\n",
    "    plt.show()\n",
    "    return parameters"
   ]
  },
  {
   "cell_type": "code",
   "execution_count": 12,
   "metadata": {},
   "outputs": [
    {
     "name": "stdout",
     "output_type": "stream",
     "text": [
      "the cost of 0th iteration is 0.6932913052533852\n",
      "the cost of 100th iteration is 0.6372901887047777\n",
      "the cost of 200th iteration is 0.5940241037907957\n",
      "the cost of 300th iteration is 0.5794790865024361\n",
      "the cost of 400th iteration is 0.5633555189433203\n",
      "the cost of 500th iteration is 0.5449744112045607\n",
      "the cost of 600th iteration is 0.5110665174458086\n",
      "the cost of 700th iteration is 0.4835562943725145\n",
      "the cost of 800th iteration is 0.46075577570268805\n",
      "the cost of 900th iteration is 0.4471278843259947\n",
      "the cost of 1000th iteration is 0.4388953407243833\n",
      "the cost of 1100th iteration is 0.4337222571692241\n",
      "the cost of 1200th iteration is 0.4302448450408767\n",
      "the cost of 1300th iteration is 0.4281628136748569\n",
      "the cost of 1400th iteration is 0.4267210425812779\n",
      "the cost of 1500th iteration is 0.42657285068354905\n",
      "the cost of 1600th iteration is 0.42737269508303455\n",
      "the cost of 1700th iteration is 0.42440067825753075\n",
      "the cost of 1800th iteration is 0.4312622714373472\n",
      "the cost of 1900th iteration is 0.4233859767321096\n",
      "the cost of 2000th iteration is 0.4230215465479013\n",
      "the cost of 2100th iteration is 0.42270756793759556\n",
      "the cost of 2200th iteration is 0.4219855555391322\n",
      "the cost of 2300th iteration is 0.42169463824602477\n",
      "the cost of 2400th iteration is 0.42144447373623933\n",
      "the cost of 2500th iteration is 0.4211877600641403\n",
      "the cost of 2600th iteration is 0.4209681156640162\n",
      "the cost of 2700th iteration is 0.4207440506370438\n",
      "the cost of 2800th iteration is 0.4205359080073565\n",
      "the cost of 2900th iteration is 0.4203388251693418\n",
      "the cost of 3000th iteration is 0.4201592878232377\n",
      "the cost of 3100th iteration is 0.41999685199697473\n",
      "the cost of 3200th iteration is 0.41983163575537014\n",
      "the cost of 3300th iteration is 0.41967738695042467\n",
      "the cost of 3400th iteration is 0.4195311337409742\n",
      "the cost of 3500th iteration is 0.419391134866023\n",
      "the cost of 3600th iteration is 0.41925676070072854\n",
      "the cost of 3700th iteration is 0.4191207844407923\n",
      "the cost of 3800th iteration is 0.41899174115424365\n",
      "the cost of 3900th iteration is 0.4188681161928334\n",
      "the cost of 4000th iteration is 0.4187489989047875\n",
      "the cost of 4100th iteration is 0.4183838289361852\n",
      "the cost of 4200th iteration is 0.41820242548153613\n",
      "the cost of 4300th iteration is 0.4180388093832641\n",
      "the cost of 4400th iteration is 0.4178961740289997\n",
      "the cost of 4500th iteration is 0.4177615239112921\n",
      "the cost of 4600th iteration is 0.4191551265956451\n",
      "the cost of 4700th iteration is 0.41840115329758626\n",
      "the cost of 4800th iteration is 0.4175699009060731\n",
      "the cost of 4900th iteration is 0.41814372853748694\n"
     ]
    },
    {
     "data": {
      "image/png": "[encoded data removed]",
      "text/plain": [
       "<Figure size 432x288 with 1 Axes>"
      ]
     },
     "metadata": {
      "needs_background": "light"
     },
     "output_type": "display_data"
    }
   ],
   "source": [
    "parameters = model(X_train,Y_train,0.08,5000  )  #1.5,6000   0.407,12000,1 70...   0.05/0.5,30000 6 0.7260869565217392/73  0.06,13500 0,80 78"
   ]
  },
  {
   "cell_type": "code",
   "execution_count": 13,
   "metadata": {},
   "outputs": [],
   "source": [
    "#prediction\n",
    "def predict(parameters,X,Y=None,print_accuracy=0,normalize=1):\n",
    "    if(normalize):\n",
    "        X = (X-m)/var\n",
    "    cache = forward_propagation(X,parameters)\n",
    "    Y_p = np.array(cache['a4']>=0.5 ,dtype=int)\n",
    "    if(print_accuracy):\n",
    "        Accuracy = np.mean(np.array(Y_p==Y,dtype=int))\n",
    "        print('Accuracy of the given is set = ',Accuracy)\n",
    "    return Y_p"
   ]
  },
  {
   "cell_type": "code",
   "execution_count": 14,
   "metadata": {},
   "outputs": [
    {
     "name": "stdout",
     "output_type": "stream",
     "text": [
      "training set:\n",
      "Accuracy of the given is set =  0.8021739130434783\n",
      "dev set:\n",
      "Accuracy of the given is set =  0.8103448275862069\n"
     ]
    }
   ],
   "source": [
    "print(\"training set:\")\n",
    "y1 = predict(parameters,X_train,Y_train,1,0)\n",
    "print(\"dev set:\")\n",
    "y2 =predict(parameters,X_dev,Y_dev,1)"
   ]
  },
  {
   "cell_type": "code",
   "execution_count": 15,
   "metadata": {},
   "outputs": [
    {
     "name": "stdout",
     "output_type": "stream",
     "text": [
      "Pregnancies : 0.0\n",
      "Glucose : 180.0\n",
      "BloodPressure : 90.0\n",
      "SkinThickness : 26.0\n",
      "Insulin : 90.0\n",
      "BMI : 36.5\n",
      "DiabetesPedigreeFunction : 0.314\n",
      "Age : 35.0\n",
      "Prediction --> is Diabetic: True\n"
     ]
    }
   ],
   "source": [
    "#prediction on the test set\n",
    "Y_p= predict(parameters,X_test)\n",
    "index =0\n",
    "for i in range(8):\n",
    "    print(fields[i],\":\",X_test[i][index])\n",
    "print(\"Prediction --> is Diabetic:\", bool(Y_p[0][index]))"
   ]
  },
  {
   "cell_type": "code",
   "execution_count": null,
   "metadata": {},
   "outputs": [],
   "source": []
  }
 ],
 "metadata": {
  "kernelspec": {
   "display_name": "Python 3",
   "language": "python",
   "name": "python3"
  },
  "language_info": {
   "codemirror_mode": {
    "name": "ipython",
    "version": 3
   },
   "file_extension": ".py",
   "mimetype": "text/x-python",
   "name": "python",
   "nbconvert_exporter": "python",
   "pygments_lexer": "ipython3",
   "version": "3.7.4"
  }
 },
 "nbformat": 4,
 "nbformat_minor": 2
}
