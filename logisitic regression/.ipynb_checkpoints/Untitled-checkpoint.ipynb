{
 "cells": [
  {
   "cell_type": "code",
   "execution_count": 1,
   "metadata": {},
   "outputs": [],
   "source": [
    "import numpy as np \n",
    "import matplotlib.pyplot as plt\n",
    "import csv"
   ]
  },
  {
   "cell_type": "code",
   "execution_count": 2,
   "metadata": {},
   "outputs": [],
   "source": [
    "#load data function\n",
    "def load_data(file):\n",
    "    csvfile = open(file)\n",
    "    csvfile = csv.reader(csvfile)\n",
    "    fields = next(csvfile)\n",
    "    data = np.array([row for row in csvfile],dtype=float).T\n",
    "    return data"
   ]
  },
  {
   "cell_type": "code",
   "execution_count": 3,
   "metadata": {},
   "outputs": [],
   "source": [
    "def normalize_data(X):\n",
    "    m = np.mean(X,axis=1,keepdims=True)\n",
    "    v = np.mean((X-m)**2,axis=1,keepdims=True)\n",
    "    return m,v ,(X-m)/v"
   ]
  },
  {
   "cell_type": "code",
   "execution_count": 4,
   "metadata": {},
   "outputs": [
    {
     "data": {
      "image/png": "[encoded data removed]",
      "text/plain": [
       "<Figure size 432x288 with 1 Axes>"
      ]
     },
     "metadata": {
      "needs_background": "light"
     },
     "output_type": "display_data"
    },
    {
     "name": "stdout",
     "output_type": "stream",
     "text": [
      "(8, 460) (8, 116)\n"
     ]
    }
   ],
   "source": [
    "#loading data\n",
    "X_train_orig = load_data(\"Diabetes_Xtrain.csv\")\n",
    "X_train = X_train_orig[:,:460]\n",
    "X_dev = X_train_orig[:,460:]\n",
    "Y_train_orig = load_data(\"Diabetes_Ytrain.csv\")\n",
    "Y_train = Y_train_orig[:,:460]\n",
    "Y_dev = Y_train_orig[:,460:]\n",
    "X_test = load_data(\"Diabetes_Xtest.csv\")\n",
    "m,var,X_train = normalize_data(X_train)\n",
    "plt.scatter(X_train[0],X_train[5],c=Y_train[0])\n",
    "#plt.scatter(X_train[4],X_train[6],c=(Y_train[0]+2))\n",
    "plt.show()\n",
    "print(X_train.shape,X_dev.shape)"
   ]
  },
  {
   "cell_type": "code",
   "execution_count": 5,
   "metadata": {},
   "outputs": [],
   "source": [
    "def initialize_parameters(layer_dims):\n",
    "    parameters ={}\n",
    "    V = {}\n",
    "    L = len(layer_dims)\n",
    "    for l in range(L-1):\n",
    "        parameters['W' +str(l+1)] = np.random.randn(layer_dims[l+1],layer_dims[l])*((2/layer_dims[l])**0.5)\n",
    "        parameters['b'+str(l+1)] = np.zeros((layer_dims[l+1],1))\n",
    "        V['dW' + str(l+1)] = np.zeros(parameters['W' + str(l+1)].shape)\n",
    "        V['db'+str(l+1)] = np.zeros(parameters['b' +str(l+1)].shape)\n",
    "    return parameters,V\n"
   ]
  },
  {
   "cell_type": "code",
   "execution_count": 6,
   "metadata": {},
   "outputs": [
    {
     "data": {
      "text/plain": [
       "1.0"
      ]
     },
     "execution_count": 6,
     "metadata": {},
     "output_type": "execute_result"
    }
   ],
   "source": [
    "def sigmoid(z):\n",
    "    return 1/(1+np.exp(-z))\n",
    "sigmoid(100)"
   ]
  },
  {
   "cell_type": "code",
   "execution_count": 7,
   "metadata": {},
   "outputs": [],
   "source": [
    "def relu(z):\n",
    "    return np.where(z>0,z,0.01*z)"
   ]
  },
  {
   "cell_type": "code",
   "execution_count": 8,
   "metadata": {},
   "outputs": [],
   "source": [
    "def forward_propagation(X,parameters):\n",
    "    cache = {}\n",
    "    cache['a0'] = X\n",
    "    L = len(parameters)//2+1\n",
    "    for l in range(L-2):\n",
    "        cache['a'+str(l+1)] = relu( np.dot(parameters['W'+str(l+1)],cache['a'+str(l)]) + parameters['b'+str(l+1)] )\n",
    "    cache['a'+str(L-1)] = sigmoid(np.dot(parameters['W'+str(L-1)],cache['a'+str(L-2)])+parameters['b'+str(L-1)])\n",
    "    #assert(np.sum(np.array(cache['a'+str(L-1)]!=1,dtype=int))==1)\n",
    "    return cache"
   ]
  },
  {
   "cell_type": "code",
   "execution_count": 9,
   "metadata": {},
   "outputs": [],
   "source": [
    "def compute_cost(z,Y):\n",
    "    m = Y.shape[1]\n",
    "    return np.squeeze(-np.mean(Y*np.log(z)+(1-Y)*np.log(1-z)))"
   ]
  },
  {
   "cell_type": "code",
   "execution_count": 10,
   "metadata": {},
   "outputs": [],
   "source": [
    "def back_propagation(X,Y,parameters,V,cache,learning_rate,t,beta=0.9,beta2 =0.999):\n",
    "    m = X.shape[1]\n",
    "    L = len(cache)\n",
    "    grads = {}\n",
    "    grads['dz'+str(L-1)] = cache['a'+str(L-1)]-Y\n",
    "    for l in range(L-1,0,-1):\n",
    "        grads['dW'+str(l)] = np.dot(grads['dz'+str(l)],cache['a'+str(l-1)].T)/m\n",
    "        grads['db'+str(l)] = np.mean(grads['dz'+str(l)],keepdims=True)\n",
    "        if(l>1):\n",
    "            grads['da'+str(l-1)]= np.dot(parameters['W'+str(l)].T,grads['dz'+str(l)])\n",
    "            grads['dz'+str(l-1)] = np.where(cache['a'+str(l-1)]>0,1,0.01)*grads['da'+str(l-1)]\n",
    "        V['dW'+str(l)] = beta*V['dW'+str(l)] + (1-beta)*grads['dW'+str(l)] \n",
    "        V['db'+str(l)] = beta*V['db'+str(l)] + (1-beta)*grads['db'+str(l)]\n",
    "    for l in range(L-1):\n",
    "        parameters['W'+str(l+1)] = parameters['W'+str(l+1)] - learning_rate*V['dW'+str(l+1)]/(1-beta2**t)\n",
    "        parameters['b'+str(l+1)] = parameters['b'+str(l+1)] - learning_rate*V['db'+str(l+1)]/(1-beta2**t)\n",
    "    return parameters,V"
   ]
  },
  {
   "cell_type": "code",
   "execution_count": 11,
   "metadata": {},
   "outputs": [],
   "source": [
    "def model(X,Y,learning_rate=0.01,num_iterations=3000):\n",
    "    np.random.seed(0)\n",
    "    parameters,V = initialize_parameters((X.shape[0],7,Y.shape[0]))\n",
    "    costs = []\n",
    "    for i in range(num_iterations):\n",
    "        cache = forward_propagation(X,parameters)\n",
    "        cost  = compute_cost(cache['a2'],Y)\n",
    "        parameters,V =  back_propagation(X,Y,parameters,V,cache,learning_rate,i+1)\n",
    "        if i%100==0:\n",
    "            costs.append(cost)\n",
    "            print(\"the cost of {}th iteration is {}\".format(str(i),str(cost)))\n",
    "    plt.plot(costs)\n",
    "    plt.title(\"Learning rate = {}\".format(learning_rate))\n",
    "    plt.ylabel(\"cost per 100 iterations\")\n",
    "    plt.xlabel(\"iterations per 100\")\n",
    "    plt.show()\n",
    "    return parameters"
   ]
  },
  {
   "cell_type": "code",
   "execution_count": 12,
   "metadata": {},
   "outputs": [
    {
     "name": "stdout",
     "output_type": "stream",
     "text": [
      "the cost of 0th iteration is 0.6613513804902805\n",
      "the cost of 100th iteration is nan\n",
      "the cost of 200th iteration is nan\n",
      "the cost of 300th iteration is nan\n"
     ]
    },
    {
     "name": "stderr",
     "output_type": "stream",
     "text": [
      "C:\\Users\\kopal\\Anaconda3\\lib\\site-packages\\ipykernel_launcher.py:3: RuntimeWarning: divide by zero encountered in log\n",
      "  This is separate from the ipykernel package so we can avoid doing imports until\n",
      "C:\\Users\\kopal\\Anaconda3\\lib\\site-packages\\ipykernel_launcher.py:3: RuntimeWarning: invalid value encountered in multiply\n",
      "  This is separate from the ipykernel package so we can avoid doing imports until\n"
     ]
    },
    {
     "name": "stdout",
     "output_type": "stream",
     "text": [
      "the cost of 400th iteration is nan\n",
      "the cost of 500th iteration is nan\n",
      "the cost of 600th iteration is nan\n",
      "the cost of 700th iteration is nan\n",
      "the cost of 800th iteration is nan\n",
      "the cost of 900th iteration is nan\n",
      "the cost of 1000th iteration is nan\n",
      "the cost of 1100th iteration is nan\n",
      "the cost of 1200th iteration is nan\n",
      "the cost of 1300th iteration is nan\n",
      "the cost of 1400th iteration is nan\n",
      "the cost of 1500th iteration is nan\n",
      "the cost of 1600th iteration is nan\n",
      "the cost of 1700th iteration is nan\n",
      "the cost of 1800th iteration is nan\n",
      "the cost of 1900th iteration is nan\n",
      "the cost of 2000th iteration is nan\n",
      "the cost of 2100th iteration is nan\n",
      "the cost of 2200th iteration is nan\n",
      "the cost of 2300th iteration is nan\n",
      "the cost of 2400th iteration is nan\n",
      "the cost of 2500th iteration is nan\n",
      "the cost of 2600th iteration is nan\n",
      "the cost of 2700th iteration is nan\n",
      "the cost of 2800th iteration is nan\n",
      "the cost of 2900th iteration is nan\n",
      "the cost of 3000th iteration is nan\n",
      "the cost of 3100th iteration is nan\n",
      "the cost of 3200th iteration is nan\n",
      "the cost of 3300th iteration is nan\n",
      "the cost of 3400th iteration is nan\n",
      "the cost of 3500th iteration is nan\n",
      "the cost of 3600th iteration is nan\n",
      "the cost of 3700th iteration is nan\n",
      "the cost of 3800th iteration is nan\n",
      "the cost of 3900th iteration is nan\n",
      "the cost of 4000th iteration is nan\n",
      "the cost of 4100th iteration is nan\n",
      "the cost of 4200th iteration is nan\n",
      "the cost of 4300th iteration is nan\n",
      "the cost of 4400th iteration is nan\n",
      "the cost of 4500th iteration is nan\n",
      "the cost of 4600th iteration is nan\n",
      "the cost of 4700th iteration is nan\n",
      "the cost of 4800th iteration is nan\n",
      "the cost of 4900th iteration is nan\n",
      "the cost of 5000th iteration is nan\n",
      "the cost of 5100th iteration is nan\n",
      "the cost of 5200th iteration is nan\n",
      "the cost of 5300th iteration is nan\n",
      "the cost of 5400th iteration is nan\n",
      "the cost of 5500th iteration is nan\n",
      "the cost of 5600th iteration is nan\n",
      "the cost of 5700th iteration is nan\n",
      "the cost of 5800th iteration is nan\n",
      "the cost of 5900th iteration is nan\n",
      "the cost of 6000th iteration is nan\n",
      "the cost of 6100th iteration is nan\n",
      "the cost of 6200th iteration is nan\n",
      "the cost of 6300th iteration is nan\n",
      "the cost of 6400th iteration is nan\n",
      "the cost of 6500th iteration is nan\n",
      "the cost of 6600th iteration is nan\n",
      "the cost of 6700th iteration is nan\n",
      "the cost of 6800th iteration is nan\n",
      "the cost of 6900th iteration is nan\n",
      "the cost of 7000th iteration is nan\n",
      "the cost of 7100th iteration is nan\n",
      "the cost of 7200th iteration is nan\n",
      "the cost of 7300th iteration is nan\n",
      "the cost of 7400th iteration is nan\n",
      "the cost of 7500th iteration is nan\n"
     ]
    },
    {
     "ename": "KeyboardInterrupt",
     "evalue": "",
     "output_type": "error",
     "traceback": [
      "\u001b[1;31m---------------------------------------------------------------------------\u001b[0m",
      "\u001b[1;31mKeyboardInterrupt\u001b[0m                         Traceback (most recent call last)",
      "\u001b[1;32m<ipython-input-12-7f33d22bb7fc>\u001b[0m in \u001b[0;36m<module>\u001b[1;34m\u001b[0m\n\u001b[1;32m----> 1\u001b[1;33m \u001b[0mparameters\u001b[0m \u001b[1;33m=\u001b[0m \u001b[0mmodel\u001b[0m\u001b[1;33m(\u001b[0m\u001b[0mX_train\u001b[0m\u001b[1;33m,\u001b[0m\u001b[0mY_train\u001b[0m\u001b[1;33m,\u001b[0m \u001b[1;36m0.3\u001b[0m\u001b[1;33m,\u001b[0m\u001b[1;36m45000\u001b[0m\u001b[1;33m)\u001b[0m  \u001b[1;31m#1.5,5000   0.407,12000,1 70...   0.05/0.5,30000 6 0.7260869565217392/73  0.5405,30000 7 77\u001b[0m\u001b[1;33m\u001b[0m\u001b[1;33m\u001b[0m\u001b[0m\n\u001b[0m",
      "\u001b[1;32m<ipython-input-11-ebae1c751999>\u001b[0m in \u001b[0;36mmodel\u001b[1;34m(X, Y, learning_rate, num_iterations)\u001b[0m\n\u001b[0;32m      6\u001b[0m         \u001b[0mcache\u001b[0m \u001b[1;33m=\u001b[0m \u001b[0mforward_propagation\u001b[0m\u001b[1;33m(\u001b[0m\u001b[0mX\u001b[0m\u001b[1;33m,\u001b[0m\u001b[0mparameters\u001b[0m\u001b[1;33m)\u001b[0m\u001b[1;33m\u001b[0m\u001b[1;33m\u001b[0m\u001b[0m\n\u001b[0;32m      7\u001b[0m         \u001b[0mcost\u001b[0m  \u001b[1;33m=\u001b[0m \u001b[0mcompute_cost\u001b[0m\u001b[1;33m(\u001b[0m\u001b[0mcache\u001b[0m\u001b[1;33m[\u001b[0m\u001b[1;34m'a2'\u001b[0m\u001b[1;33m]\u001b[0m\u001b[1;33m,\u001b[0m\u001b[0mY\u001b[0m\u001b[1;33m)\u001b[0m\u001b[1;33m\u001b[0m\u001b[1;33m\u001b[0m\u001b[0m\n\u001b[1;32m----> 8\u001b[1;33m         \u001b[0mparameters\u001b[0m\u001b[1;33m,\u001b[0m\u001b[0mV\u001b[0m \u001b[1;33m=\u001b[0m  \u001b[0mback_propagation\u001b[0m\u001b[1;33m(\u001b[0m\u001b[0mX\u001b[0m\u001b[1;33m,\u001b[0m\u001b[0mY\u001b[0m\u001b[1;33m,\u001b[0m\u001b[0mparameters\u001b[0m\u001b[1;33m,\u001b[0m\u001b[0mV\u001b[0m\u001b[1;33m,\u001b[0m\u001b[0mcache\u001b[0m\u001b[1;33m,\u001b[0m\u001b[0mlearning_rate\u001b[0m\u001b[1;33m,\u001b[0m\u001b[0mi\u001b[0m\u001b[1;33m+\u001b[0m\u001b[1;36m1\u001b[0m\u001b[1;33m)\u001b[0m\u001b[1;33m\u001b[0m\u001b[1;33m\u001b[0m\u001b[0m\n\u001b[0m\u001b[0;32m      9\u001b[0m         \u001b[1;32mif\u001b[0m \u001b[0mi\u001b[0m\u001b[1;33m%\u001b[0m\u001b[1;36m100\u001b[0m\u001b[1;33m==\u001b[0m\u001b[1;36m0\u001b[0m\u001b[1;33m:\u001b[0m\u001b[1;33m\u001b[0m\u001b[1;33m\u001b[0m\u001b[0m\n\u001b[0;32m     10\u001b[0m             \u001b[0mcosts\u001b[0m\u001b[1;33m.\u001b[0m\u001b[0mappend\u001b[0m\u001b[1;33m(\u001b[0m\u001b[0mcost\u001b[0m\u001b[1;33m)\u001b[0m\u001b[1;33m\u001b[0m\u001b[1;33m\u001b[0m\u001b[0m\n",
      "\u001b[1;32m<ipython-input-10-7c119e71ca8f>\u001b[0m in \u001b[0;36mback_propagation\u001b[1;34m(X, Y, parameters, V, cache, learning_rate, t, beta, beta2)\u001b[0m\n\u001b[0;32m      9\u001b[0m         \u001b[1;32mif\u001b[0m\u001b[1;33m(\u001b[0m\u001b[0ml\u001b[0m\u001b[1;33m>\u001b[0m\u001b[1;36m1\u001b[0m\u001b[1;33m)\u001b[0m\u001b[1;33m:\u001b[0m\u001b[1;33m\u001b[0m\u001b[1;33m\u001b[0m\u001b[0m\n\u001b[0;32m     10\u001b[0m             \u001b[0mgrads\u001b[0m\u001b[1;33m[\u001b[0m\u001b[1;34m'da'\u001b[0m\u001b[1;33m+\u001b[0m\u001b[0mstr\u001b[0m\u001b[1;33m(\u001b[0m\u001b[0ml\u001b[0m\u001b[1;33m-\u001b[0m\u001b[1;36m1\u001b[0m\u001b[1;33m)\u001b[0m\u001b[1;33m]\u001b[0m\u001b[1;33m=\u001b[0m \u001b[0mnp\u001b[0m\u001b[1;33m.\u001b[0m\u001b[0mdot\u001b[0m\u001b[1;33m(\u001b[0m\u001b[0mparameters\u001b[0m\u001b[1;33m[\u001b[0m\u001b[1;34m'W'\u001b[0m\u001b[1;33m+\u001b[0m\u001b[0mstr\u001b[0m\u001b[1;33m(\u001b[0m\u001b[0ml\u001b[0m\u001b[1;33m)\u001b[0m\u001b[1;33m]\u001b[0m\u001b[1;33m.\u001b[0m\u001b[0mT\u001b[0m\u001b[1;33m,\u001b[0m\u001b[0mgrads\u001b[0m\u001b[1;33m[\u001b[0m\u001b[1;34m'dz'\u001b[0m\u001b[1;33m+\u001b[0m\u001b[0mstr\u001b[0m\u001b[1;33m(\u001b[0m\u001b[0ml\u001b[0m\u001b[1;33m)\u001b[0m\u001b[1;33m]\u001b[0m\u001b[1;33m)\u001b[0m\u001b[1;33m\u001b[0m\u001b[1;33m\u001b[0m\u001b[0m\n\u001b[1;32m---> 11\u001b[1;33m             \u001b[0mgrads\u001b[0m\u001b[1;33m[\u001b[0m\u001b[1;34m'dz'\u001b[0m\u001b[1;33m+\u001b[0m\u001b[0mstr\u001b[0m\u001b[1;33m(\u001b[0m\u001b[0ml\u001b[0m\u001b[1;33m-\u001b[0m\u001b[1;36m1\u001b[0m\u001b[1;33m)\u001b[0m\u001b[1;33m]\u001b[0m \u001b[1;33m=\u001b[0m \u001b[0mnp\u001b[0m\u001b[1;33m.\u001b[0m\u001b[0mwhere\u001b[0m\u001b[1;33m(\u001b[0m\u001b[0mcache\u001b[0m\u001b[1;33m[\u001b[0m\u001b[1;34m'a'\u001b[0m\u001b[1;33m+\u001b[0m\u001b[0mstr\u001b[0m\u001b[1;33m(\u001b[0m\u001b[0ml\u001b[0m\u001b[1;33m-\u001b[0m\u001b[1;36m1\u001b[0m\u001b[1;33m)\u001b[0m\u001b[1;33m]\u001b[0m\u001b[1;33m>\u001b[0m\u001b[1;36m0\u001b[0m\u001b[1;33m,\u001b[0m\u001b[1;36m1\u001b[0m\u001b[1;33m,\u001b[0m\u001b[1;36m0.01\u001b[0m\u001b[1;33m)\u001b[0m\u001b[1;33m*\u001b[0m\u001b[0mgrads\u001b[0m\u001b[1;33m[\u001b[0m\u001b[1;34m'da'\u001b[0m\u001b[1;33m+\u001b[0m\u001b[0mstr\u001b[0m\u001b[1;33m(\u001b[0m\u001b[0ml\u001b[0m\u001b[1;33m-\u001b[0m\u001b[1;36m1\u001b[0m\u001b[1;33m)\u001b[0m\u001b[1;33m]\u001b[0m\u001b[1;33m\u001b[0m\u001b[1;33m\u001b[0m\u001b[0m\n\u001b[0m\u001b[0;32m     12\u001b[0m         \u001b[0mV\u001b[0m\u001b[1;33m[\u001b[0m\u001b[1;34m'dW'\u001b[0m\u001b[1;33m+\u001b[0m\u001b[0mstr\u001b[0m\u001b[1;33m(\u001b[0m\u001b[0ml\u001b[0m\u001b[1;33m)\u001b[0m\u001b[1;33m]\u001b[0m \u001b[1;33m=\u001b[0m \u001b[0mbeta\u001b[0m\u001b[1;33m*\u001b[0m\u001b[0mV\u001b[0m\u001b[1;33m[\u001b[0m\u001b[1;34m'dW'\u001b[0m\u001b[1;33m+\u001b[0m\u001b[0mstr\u001b[0m\u001b[1;33m(\u001b[0m\u001b[0ml\u001b[0m\u001b[1;33m)\u001b[0m\u001b[1;33m]\u001b[0m \u001b[1;33m+\u001b[0m \u001b[1;33m(\u001b[0m\u001b[1;36m1\u001b[0m\u001b[1;33m-\u001b[0m\u001b[0mbeta\u001b[0m\u001b[1;33m)\u001b[0m\u001b[1;33m*\u001b[0m\u001b[0mgrads\u001b[0m\u001b[1;33m[\u001b[0m\u001b[1;34m'dW'\u001b[0m\u001b[1;33m+\u001b[0m\u001b[0mstr\u001b[0m\u001b[1;33m(\u001b[0m\u001b[0ml\u001b[0m\u001b[1;33m)\u001b[0m\u001b[1;33m]\u001b[0m\u001b[1;33m\u001b[0m\u001b[1;33m\u001b[0m\u001b[0m\n\u001b[0;32m     13\u001b[0m         \u001b[0mV\u001b[0m\u001b[1;33m[\u001b[0m\u001b[1;34m'db'\u001b[0m\u001b[1;33m+\u001b[0m\u001b[0mstr\u001b[0m\u001b[1;33m(\u001b[0m\u001b[0ml\u001b[0m\u001b[1;33m)\u001b[0m\u001b[1;33m]\u001b[0m \u001b[1;33m=\u001b[0m \u001b[0mbeta\u001b[0m\u001b[1;33m*\u001b[0m\u001b[0mV\u001b[0m\u001b[1;33m[\u001b[0m\u001b[1;34m'db'\u001b[0m\u001b[1;33m+\u001b[0m\u001b[0mstr\u001b[0m\u001b[1;33m(\u001b[0m\u001b[0ml\u001b[0m\u001b[1;33m)\u001b[0m\u001b[1;33m]\u001b[0m \u001b[1;33m+\u001b[0m \u001b[1;33m(\u001b[0m\u001b[1;36m1\u001b[0m\u001b[1;33m-\u001b[0m\u001b[0mbeta\u001b[0m\u001b[1;33m)\u001b[0m\u001b[1;33m*\u001b[0m\u001b[0mgrads\u001b[0m\u001b[1;33m[\u001b[0m\u001b[1;34m'db'\u001b[0m\u001b[1;33m+\u001b[0m\u001b[0mstr\u001b[0m\u001b[1;33m(\u001b[0m\u001b[0ml\u001b[0m\u001b[1;33m)\u001b[0m\u001b[1;33m]\u001b[0m\u001b[1;33m\u001b[0m\u001b[1;33m\u001b[0m\u001b[0m\n",
      "\u001b[1;31mKeyboardInterrupt\u001b[0m: "
     ]
    }
   ],
   "source": [
    "parameters = model(X_train,Y_train, 0.3,45000)  #1.5,5000   0.407,12000,1 70...   0.05/0.5,30000 6 0.7260869565217392/73  0.5405,30000 7 77"
   ]
  },
  {
   "cell_type": "code",
   "execution_count": 13,
   "metadata": {},
   "outputs": [],
   "source": [
    "#prediction\n",
    "def predict(parameters,X,Y=None,print_accuracy=0,normalize=1):\n",
    "    if(normalize):\n",
    "        X = (X-m)/var\n",
    "    cache = forward_propagation(X,parameters)\n",
    "    Y_p = np.array(cache['a2']>=0.5 ,dtype=int)\n",
    "    if(print_accuracy):\n",
    "        Accuracy = np.mean(np.array(Y_p==Y,dtype=int))\n",
    "        print('Accuracy of the given is set = ',Accuracy)\n",
    "    return Y_p"
   ]
  },
  {
   "cell_type": "code",
   "execution_count": 14,
   "metadata": {},
   "outputs": [
    {
     "name": "stdout",
     "output_type": "stream",
     "text": [
      "training set:\n"
     ]
    },
    {
     "ename": "NameError",
     "evalue": "name 'parameters' is not defined",
     "output_type": "error",
     "traceback": [
      "\u001b[1;31m---------------------------------------------------------------------------\u001b[0m",
      "\u001b[1;31mNameError\u001b[0m                                 Traceback (most recent call last)",
      "\u001b[1;32m<ipython-input-14-a80b74aa0747>\u001b[0m in \u001b[0;36m<module>\u001b[1;34m\u001b[0m\n\u001b[0;32m      1\u001b[0m \u001b[0mprint\u001b[0m\u001b[1;33m(\u001b[0m\u001b[1;34m\"training set:\"\u001b[0m\u001b[1;33m)\u001b[0m\u001b[1;33m\u001b[0m\u001b[1;33m\u001b[0m\u001b[0m\n\u001b[1;32m----> 2\u001b[1;33m \u001b[0my1\u001b[0m \u001b[1;33m=\u001b[0m \u001b[0mpredict\u001b[0m\u001b[1;33m(\u001b[0m\u001b[0mparameters\u001b[0m\u001b[1;33m,\u001b[0m\u001b[0mX_train\u001b[0m\u001b[1;33m,\u001b[0m\u001b[0mY_train\u001b[0m\u001b[1;33m,\u001b[0m\u001b[1;36m1\u001b[0m\u001b[1;33m,\u001b[0m\u001b[1;36m0\u001b[0m\u001b[1;33m)\u001b[0m\u001b[1;33m\u001b[0m\u001b[1;33m\u001b[0m\u001b[0m\n\u001b[0m\u001b[0;32m      3\u001b[0m \u001b[0mprint\u001b[0m\u001b[1;33m(\u001b[0m\u001b[1;34m\"dev set:\"\u001b[0m\u001b[1;33m)\u001b[0m\u001b[1;33m\u001b[0m\u001b[1;33m\u001b[0m\u001b[0m\n\u001b[0;32m      4\u001b[0m \u001b[0my2\u001b[0m \u001b[1;33m=\u001b[0m\u001b[0mpredict\u001b[0m\u001b[1;33m(\u001b[0m\u001b[0mparameters\u001b[0m\u001b[1;33m,\u001b[0m\u001b[0mX_dev\u001b[0m\u001b[1;33m,\u001b[0m\u001b[0mY_dev\u001b[0m\u001b[1;33m,\u001b[0m\u001b[1;36m1\u001b[0m\u001b[1;33m)\u001b[0m\u001b[1;33m\u001b[0m\u001b[1;33m\u001b[0m\u001b[0m\n",
      "\u001b[1;31mNameError\u001b[0m: name 'parameters' is not defined"
     ]
    }
   ],
   "source": [
    "print(\"training set:\")\n",
    "y1 = predict(parameters,X_train,Y_train,1,0)\n",
    "print(\"dev set:\")\n",
    "y2 =predict(parameters,X_dev,Y_dev,1)"
   ]
  },
  {
   "cell_type": "code",
   "execution_count": null,
   "metadata": {},
   "outputs": [],
   "source": []
  }
 ],
 "metadata": {
  "kernelspec": {
   "display_name": "Python 3",
   "language": "python",
   "name": "python3"
  },
  "language_info": {
   "codemirror_mode": {
    "name": "ipython",
    "version": 3
   },
   "file_extension": ".py",
   "mimetype": "text/x-python",
   "name": "python",
   "nbconvert_exporter": "python",
   "pygments_lexer": "ipython3",
   "version": "3.7.4"
  }
 },
 "nbformat": 4,
 "nbformat_minor": 2
}
