{
 "cells": [
  {
   "cell_type": "code",
   "execution_count": 86,
   "metadata": {},
   "outputs": [],
   "source": [
    "import csv \n",
    "import numpy as np\n",
    "import matplotlib.pyplot as plt\n"
   ]
  },
  {
   "cell_type": "code",
   "execution_count": 87,
   "metadata": {},
   "outputs": [],
   "source": [
    "def load_csv(filename):\n",
    "    with open(filename+'.csv', 'r') as csvfile: \n",
    "        # creating a csv reader object \n",
    "        csvread = csv.reader(csvfile)\n",
    "        fields=next(csvread)\n",
    "        X_train = [row for row in  csvread]\n",
    "    X_train = np.array(X_train , dtype=float).T\n",
    "    return X_train\n"
   ]
  },
  {
   "cell_type": "code",
   "execution_count": 88,
   "metadata": {},
   "outputs": [
    {
     "name": "stdout",
     "output_type": "stream",
     "text": [
      "(5, 800) (5, 400) (1, 800) (5, 800) (1, 800)\n"
     ]
    }
   ],
   "source": [
    "train  = load_csv(\"Train\")\n",
    "test = load_csv(\"Test\")\n",
    "train = np.array(train)\n",
    "test  = np.array(test)\n",
    "X_train = train[:5,:800]\n",
    "X_dev  = train[:5,800:]\n",
    "Y_train = train[5:,:800]\n",
    "Y_dev = train[5:,800:]\n",
    "X_test = test\n",
    "print(X_train.shape,X_test.shape,Y_train.shape,X_dev.shape,Y_dev.shape)\n"
   ]
  },
  {
   "cell_type": "code",
   "execution_count": 96,
   "metadata": {},
   "outputs": [],
   "source": [
    "def initialize_params(n):\n",
    "    parameters={}\n",
    "    parameters['w'] = np.random.randn(1,n)*100\n",
    "    parameters['b'] =0\n",
    "    return parameters"
   ]
  },
  {
   "cell_type": "code",
   "execution_count": 97,
   "metadata": {},
   "outputs": [],
   "source": [
    "def forward_prop(parameters,X):\n",
    "    return np.dot(parameters['w'],X)+parameters['b']\n"
   ]
  },
  {
   "cell_type": "code",
   "execution_count": 98,
   "metadata": {},
   "outputs": [],
   "source": [
    "def compute_cost (Y_p,Y):\n",
    "    return np.mean((Y_p-Y)**2)/2\n"
   ]
  },
  {
   "cell_type": "code",
   "execution_count": 99,
   "metadata": {},
   "outputs": [],
   "source": [
    "def back_prop_update(parameters,X,Y,Y_p,lr):\n",
    "    m = X.shape[1]\n",
    "    dY = Y_p-Y\n",
    "    dw = np.dot(dY,X.T)/m\n",
    "    db = np.sum(dY)/m\n",
    "    parameters['w'] = parameters['w']- lr*dw\n",
    "    parameters['b']=parameters['b']-lr*db\n",
    "    return parameters,dw,db"
   ]
  },
  {
   "cell_type": "code",
   "execution_count": 100,
   "metadata": {},
   "outputs": [],
   "source": [
    "#using gradient descent\n",
    "def model(X,Y,lr=0.09,num_iterations=3000):\n",
    "    parameters = initialize_params(X.shape[0])\n",
    "    costs = []\n",
    "    for i in range(num_iterations):\n",
    "        Y_p = forward_prop(parameters,X)\n",
    "        cost = compute_cost(Y_p,Y)\n",
    "        parameters,dw,db= back_prop_update(parameters,X,Y,Y_p,lr)\n",
    "        if(i%100==0):\n",
    "            costs.append(cost)\n",
    "            print(\"Cost after {}th iteration:{}\".format(i,cost))\n",
    "    plt.plot(costs)\n",
    "    plt.ylabel(\"cost\")\n",
    "    plt.xlabel(\"iterations per hundred\")\n",
    "    plt.title(\"learning rate = {}\".format(lr))\n",
    "    plt.show()\n",
    "    return parameters"
   ]
  },
  {
   "cell_type": "code",
   "execution_count": 101,
   "metadata": {},
   "outputs": [],
   "source": [
    "def predict(w,b,X,Y=None,print_acc=False):\n",
    "    m=X.shape[1]\n",
    "    Y_p = np.dot(w,X)+b\n",
    "    if(print_acc):\n",
    "        Y_mean = np.mean(Y)\n",
    "        r2 = np.sum((Y_p-Y_mean)**2)/np.sum((Y_p-Y)**2)\n",
    "        print(\"Accuracy on the given set:\",r2)\n",
    "    return Y_p"
   ]
  },
  {
   "cell_type": "code",
   "execution_count": 102,
   "metadata": {},
   "outputs": [
    {
     "name": "stdout",
     "output_type": "stream",
     "text": [
      "Cost after 0th iteration:27511.767865539136\n",
      "Cost after 100th iteration:209.83641738988146\n",
      "Cost after 200th iteration:209.8363639231138\n",
      "Cost after 300th iteration:209.83636392311348\n",
      "Cost after 400th iteration:209.83636392311354\n",
      "Cost after 500th iteration:209.83636392311354\n",
      "Cost after 600th iteration:209.83636392311354\n",
      "Cost after 700th iteration:209.83636392311354\n",
      "Cost after 800th iteration:209.83636392311354\n",
      "Cost after 900th iteration:209.83636392311354\n",
      "Cost after 1000th iteration:209.83636392311354\n",
      "Cost after 1100th iteration:209.83636392311354\n",
      "Cost after 1200th iteration:209.83636392311354\n",
      "Cost after 1300th iteration:209.83636392311354\n",
      "Cost after 1400th iteration:209.83636392311354\n",
      "Cost after 1500th iteration:209.83636392311354\n",
      "Cost after 1600th iteration:209.83636392311354\n",
      "Cost after 1700th iteration:209.83636392311354\n",
      "Cost after 1800th iteration:209.83636392311354\n",
      "Cost after 1900th iteration:209.83636392311354\n",
      "Cost after 2000th iteration:209.83636392311354\n",
      "Cost after 2100th iteration:209.83636392311354\n",
      "Cost after 2200th iteration:209.83636392311354\n",
      "Cost after 2300th iteration:209.83636392311354\n",
      "Cost after 2400th iteration:209.83636392311354\n",
      "Cost after 2500th iteration:209.83636392311354\n",
      "Cost after 2600th iteration:209.83636392311354\n",
      "Cost after 2700th iteration:209.83636392311354\n",
      "Cost after 2800th iteration:209.83636392311354\n",
      "Cost after 2900th iteration:209.83636392311354\n"
     ]
    },
    {
     "data": {
      "image/png": "[encoded data removed]",
      "text/plain": [
       "<Figure size 432x288 with 1 Axes>"
      ]
     },
     "metadata": {
      "needs_background": "light"
     },
     "output_type": "display_data"
    },
    {
     "name": "stdout",
     "output_type": "stream",
     "text": [
      "training set:\n",
      "Accuracy on the given set: 28.631792238450007\n",
      "dev set:\n",
      "Accuracy on the given set: 28.47107278611894\n"
     ]
    }
   ],
   "source": [
    "parameters = model(X_train,Y_train)\n",
    "print(\"training set:\")\n",
    "Y_p= predict(parameters['w'],parameters['b'],X_train,Y_train,True)\n",
    "print(\"dev set:\")\n",
    "Y_p= predict(parameters['w'],parameters['b'],X_dev,Y_dev,True)\n",
    "Y_p1= predict(parameters['w'],parameters['b'],X_test)"
   ]
  },
  {
   "cell_type": "code",
   "execution_count": 103,
   "metadata": {},
   "outputs": [
    {
     "name": "stdout",
     "output_type": "stream",
     "text": [
      "Accuracy on the given set: 27.724128185405768\n"
     ]
    }
   ],
   "source": [
    "#using corelation method\n",
    "\n",
    "w1 = np.sum((X_train-np.mean(X_train ,axis=1,keepdims=True))*(Y_train-np.mean(Y_train,keepdims=True)),axis=1,keepdims=True).T#\n",
    "w2 = np.sum((X_train-np.mean(X_train,axis=1,keepdims=True))**2,axis=1,keepdims=True).T\n",
    "w= w1/w2\n",
    "b = np.mean(Y_train - np.dot(w,np.mean(X_train,axis=1,keepdims=True)))\n",
    "Y_p2 = predict(w,b,X_train,Y_train,True)"
   ]
  },
  {
   "cell_type": "code",
   "execution_count": 104,
   "metadata": {},
   "outputs": [
    {
     "name": "stdout",
     "output_type": "stream",
     "text": [
      "prediction using gradient descent: 113.86417456900551\n",
      "prediction using correlation method: -58.12860086724928\n"
     ]
    }
   ],
   "source": [
    "index = 0 #0 to 400\n",
    "print (\"prediction using gradient descent:\",Y_p1[0][index])\n",
    "print(\"prediction using correlation method:\",Y_p2[0][index])"
   ]
  },
  {
   "cell_type": "code",
   "execution_count": null,
   "metadata": {},
   "outputs": [],
   "source": []
  }
 ],
 "metadata": {
  "kernelspec": {
   "display_name": "Python 3",
   "language": "python",
   "name": "python3"
  },
  "language_info": {
   "codemirror_mode": {
    "name": "ipython",
    "version": 3
   },
   "file_extension": ".py",
   "mimetype": "text/x-python",
   "name": "python",
   "nbconvert_exporter": "python",
   "pygments_lexer": "ipython3",
   "version": "3.7.4"
  }
 },
 "nbformat": 4,
 "nbformat_minor": 2
}
